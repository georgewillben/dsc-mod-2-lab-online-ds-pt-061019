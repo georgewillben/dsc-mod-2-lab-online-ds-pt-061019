{
 "cells": [
  {
   "cell_type": "markdown",
   "metadata": {},
   "source": [
    "# Module 2 Summative Lab\n",
    "\n",
    "## Introduction\n",
    "\n",
    "For today's section, we're going to work on a single big lab to apply everything we've learned in Module 2!\n",
    "\n",
    "## About This Lab\n",
    "\n",
    "A quick note before getting started--this lab isn't like other labs you seen so far. This lab is meant to take ~8 hours to complete, so it's much longer and more challenging that the average labs you've seen so far. If you feel like this lab is challenging or that you might be struggling a bit, don't fret--that's by design! With everything we've learned about Web Scraping, APIs, and Databases, the best way to test our knowledge of it is to build something substantial! \n",
    "\n",
    "## The Project\n",
    "\n",
    "In this lab, we're going to make use of everything we've learned about APIs, databases, and Object-Oriented Programming to **_Extract, Transform, and Load_** (or **_ETL_**, for short) some data from a SQL database into a MongoDB Database. \n",
    "\n",
    "You'll find a database containing information about soccer teams and the matches they've played in the file `database.sqlite`. For this project, our goal is to get the data we think is important from this SQL database, do some calculations and data transformation, and then store everything in a MongoDB database. \n",
    "\n",
    "Let's get into the specifics of this project.\n",
    "\n",
    "### The Goal\n",
    "\n",
    "Start by examining the data dictionary for the SQL database we'll be working with, which comes from this [kaggle page](https://www.kaggle.com/laudanum/footballdelphi).  Familiarize yourself with the tables it contains, and what each column means. We'll be using this database to get data on each soccer team, calculate some summary statistics, and then store each in a MongoDB database. \n",
    "\n",
    "Upon completion of this lab, each unique team in this dataset should have a record in the MongoDB instance containing the following information:\n",
    "\n",
    "* The name of the team\n",
    "* The total number of goals scored by the team during the 2011 season\n",
    "* The total number of wins the team earned during the 2011 season\n",
    "* A histogram visualization of the team's wins and losses for the 2011 season (store the visualization directly by assigning it to a variable)\n",
    "* The team's win percentage on days where it was raining during games in the 2011 season. \n",
    "\n",
    "#### Getting the Weather Data\n",
    "\n",
    "Note that for this last calculation, you'll need to figure out if it was raining or not during the game. The database itself does not contain this information, but it does contain the date on which the game was played. For this, you'll need to use the [DarkSky API](https://darksky.net/dev) to get the historical weather data for that day. Note that each game is played in a different location, and this information is not contained in our SQL database. However, the teams in this database are largely german, so go ahead and just use the weather in Berlin, Germany as a proxy for this information. If it was raining in Berlin on the day the game was played, count that as rain game--**_you do not need to try and figure out the actual weather at each game's location, because we don't have that information!_**\n",
    "\n",
    "#### NOTE: The DarkSky API is limited to 1000 free API calls a day, so be sure to test your model on very small samples. Otherwise, you'll hit the rate limit!\n",
    "\n",
    "## Project Architecture\n",
    "\n",
    "Unlike previous labs, this lab is more open-ended, and will require you to make design decisions and plan out your strategy for building a system with this many working parts. However, **_using Object-Oriented Programming is a requirement for this project--you must create at least 2 separate, well structured classes in your solution!_** Although it may seem easier to \"just start coding\", this is a classic beginner's mistake. Instead, think about separating out the different functionalities you'll need to reach your goal, and then build classes to handle each. For instance, at minimum, you'll need to:\n",
    "\n",
    "* Query the SQL database\n",
    "* Calculate summary statistics\n",
    "* Get the weather data from the DarkSky API\n",
    "* Load the data into MongoDB\n",
    "\n",
    "We **_strongly recommend_** you consider creating separate classes for handling at least some of these of these tasks.  Be sure to plan the inputs, outputs, and methods for each class before you begin coding! \n",
    "\n",
    "**_NOTE:_** We have provided some empty classes below. You are welcome to delete them and use a different architecture for this project if you so choose.  You do not have to use each of them, they are just there to give you an idea of what you could sorts of classes you may want to consider using.\n",
    "\n",
    "### Rapid Prototyping and Refactoring\n",
    "\n",
    "It's totally okay to try to get a task working without using OOP. For instance, when experimenting with the DarkSky API for getting historical weather data, it makes sense to just write the code in the cells and rapidly iterate until you get it all working. However, once you get it working, you're not done--you should then **_Refactor_** your code into functions or classes to make your code more modular, reusable, understandable, and maintainable! \n",
    "\n",
    "In short--do what you need to do to get each separate piece of functionality working, and then refactor it into a class after you've figured it out!\n",
    "\n",
    "### Some Final Advice\n",
    "\n",
    "You haven't built anything this big or complex thus far, so you may not yet fully realize how much trial and error goes into it. If your code keeps breaking, resist the urge to get frustrated, and just keep working. Software development is an iterative process!  No one writes perfect code that works the first time for something this involved. You're going to run into _a lot_ of small errors in this project, right up until the point where it just works, and then you're done! However, you can reduce these errors by planning out your code, and thinking about how all of the pieces fit together before you begin coding. Once you have some basic understanding of how it all will work, then you'll know what you need to build, and then all that is left is to build it!\n",
    "\n",
    "In short:\n",
    "\n",
    "* Plan ahead--you'll thank yourself later!\n",
    "* Errors and broken code aren't bad, they're normal. \n",
    "* Keep working, and stay confident--you can do this!\n",
    "\n",
    "Good luck--we look forward to seeing your completed project!"
   ]
  },
  {
   "cell_type": "markdown",
   "metadata": {},
   "source": [
    "First, import required libraries"
   ]
  },
  {
   "cell_type": "code",
   "execution_count": 53,
   "metadata": {},
   "outputs": [
    {
     "ename": "ModuleNotFoundError",
     "evalue": "No module named 'Image'",
     "output_type": "error",
     "traceback": [
      "\u001b[1;31m---------------------------------------------------------------------------\u001b[0m",
      "\u001b[1;31mModuleNotFoundError\u001b[0m                       Traceback (most recent call last)",
      "\u001b[1;32m<ipython-input-53-66347403c528>\u001b[0m in \u001b[0;36m<module>\u001b[1;34m\u001b[0m\n\u001b[0;32m      8\u001b[0m \u001b[1;32mimport\u001b[0m \u001b[0mdatetime\u001b[0m\u001b[1;33m\u001b[0m\u001b[1;33m\u001b[0m\u001b[0m\n\u001b[0;32m      9\u001b[0m \u001b[1;32mimport\u001b[0m \u001b[0mtime\u001b[0m\u001b[1;33m\u001b[0m\u001b[1;33m\u001b[0m\u001b[0m\n\u001b[1;32m---> 10\u001b[1;33m \u001b[1;32mimport\u001b[0m \u001b[0mImage\u001b[0m\u001b[1;33m\u001b[0m\u001b[1;33m\u001b[0m\u001b[0m\n\u001b[0m",
      "\u001b[1;31mModuleNotFoundError\u001b[0m: No module named 'Image'"
     ]
    }
   ],
   "source": [
    "import numpy as np\n",
    "import matplotlib.pyplot as plt\n",
    "%matplotlib inline\n",
    "import sqlite3\n",
    "import requests\n",
    "import json\n",
    "import pymongo\n",
    "import datetime\n",
    "import time"
   ]
  },
  {
   "cell_type": "code",
   "execution_count": 12,
   "metadata": {},
   "outputs": [],
   "source": [
    "class WeatherGetter():  # This class comes with the DarkSky API URL and API key path\n",
    "    \n",
    "    def __init__(self, season, lat, lon):\n",
    "        self.lat = lat\n",
    "        self.lon = lon\n",
    "        self.season = season\n",
    "        self.dates = None\n",
    "        self.rainy_dates = []\n",
    "        self.base_url = 'https://api.darksky.net/forecast/'\n",
    "        self.key = json.load(open('/Users/zasz/.secret/darkSky.json'))['api_key']\n",
    "    \n",
    "    def find_Rainy_Dates(self): # Finds dates where games were played in rainy weather\n",
    "        \n",
    "        dates_query = '''SELECT DISTINCT Date\n",
    "                                            FROM Matches\n",
    "                                            WHERE Season = {}'''.format(self.season)\n",
    "        dates_results = c.execute(dates_query).fetchall()\n",
    "        self.dates = [x[0] for x in dates_results]\n",
    "        \n",
    "        for date in self.dates: \n",
    "            date_time = datetime.datetime.strptime(date, '%Y-%m-%d') # Convert date to datetime timestamp\n",
    "            time_stamp = round(date_time.timestamp())\n",
    "            final_url = self.base_url + self.key + '/' + str(self.lat) + ',' + str(self.lon) + ',' + str(time_stamp)\n",
    "            response = requests.get(final_url) # Make request\n",
    "            if response.status_code != requests.codes.ok: # Print an error if status code is off\n",
    "                print('error')   \n",
    "            data = response.json() \n",
    "            if data['daily']['data'][0]['precipIntensity'] > 0:\n",
    "                self.rainy_dates.append(date)\n",
    "            time.sleep(1)"
   ]
  },
  {
   "cell_type": "code",
   "execution_count": 67,
   "metadata": {
    "scrolled": true
   },
   "outputs": [],
   "source": [
    "class Team():\n",
    "    \n",
    "    def __init__(self, season, team_name): # Pass in season and team name at instatiation\n",
    "        self.team_name = team_name\n",
    "        self.season = season\n",
    "        \n",
    "        self.total_goals = None # These variables will be set through functions\n",
    "        self.total_wins = None\n",
    "        self.win_rate_rain = None\n",
    "        self.win_dates = None \n",
    "        self.lose_dates = None\n",
    "        self.draw_dates = None\n",
    "        \n",
    "        \n",
    "        \n",
    "        \n",
    "        \n",
    "    def find_Goals(self): # Sets self.total_goals\n",
    "        \n",
    "        home_goals_query = '''SELECT SUM(FTHG) \n",
    "                                FROM Matches\n",
    "                                WHERE HomeTeam = \"{}\"\n",
    "                                AND Season = {}\n",
    "                                '''.format(self.team_name, self.season)\n",
    "        home_goals_results = c.execute(home_goals_query).fetchall()\n",
    "        home_goals = home_goals_results[0][0]\n",
    "        \n",
    "        away_goals_query = '''SELECT SUM(FTAG)\n",
    "                                FROM Matches \n",
    "                                WHERE AwayTeam = \"{}\"\n",
    "                                AND Season = {}\n",
    "                                '''.format(self.team_name, self.season)\n",
    "        away_goals_results = c.execute(away_goals_query).fetchall()\n",
    "        away_goals = away_goals_results[0][0]\n",
    "        \n",
    "        self.total_goals = home_goals + away_goals\n",
    "        \n",
    "    def find_Wins(self): # Sets self.total_wins\n",
    "        \n",
    "        wins_query = '''SELECT COUNT(Match_ID)\n",
    "                                            FROM Matches\n",
    "                                            WHERE ((HomeTeam = \"{}\"\n",
    "                                            AND FTR = 'H')\n",
    "                                            OR (AwayTeam = \"{}\"\n",
    "                                            AND FTR = 'A'))\n",
    "                                            AND Season = {}\n",
    "                                            '''.format(self.team_name, self.team_name, self.season)\n",
    "        wins_results = c.execute(wins_query).fetchall()\n",
    "        self.total_wins = wins_results[0][0]\n",
    "        \n",
    "        \n",
    "    def find_Dates(self):\n",
    "        \n",
    "        win_dates_query = '''SELECT Date\n",
    "                                        FROM Matches\n",
    "                                        WHERE ((HomeTeam = \"{}\"\n",
    "                                        AND FTR = 'H')\n",
    "                                        OR (AwayTeam = \"{}\"\n",
    "                                        AND FTR = 'A'))\n",
    "                                        AND Season = {}\n",
    "                                        '''.format(self.team_name, self.team_name, self.season)\n",
    "        win_dates_results = c.execute(win_dates_query).fetchall()\n",
    "        self.win_dates = [x[0] for x in win_dates_results]\n",
    "        \n",
    "        lose_dates_query = '''SELECT Date\n",
    "                                        FROM Matches\n",
    "                                        WHERE ((HomeTeam = \"{}\"\n",
    "                                        AND FTR = 'A')\n",
    "                                        OR (AwayTeam = \"{}\"\n",
    "                                        AND FTR = 'H'))\n",
    "                                        AND Season = {}\n",
    "                                        '''.format(self.team_name, self.team_name, self.season)\n",
    "        lose_dates_results = c.execute(lose_dates_query).fetchall()\n",
    "        self.lose_dates = [x[0] for x in lose_dates_results]\n",
    "        \n",
    "        draw_dates_query = '''SELECT Date \n",
    "                                        FROM Matches\n",
    "                                        WHERE ((HomeTeam = \"{}\"\n",
    "                                        OR AwayTeam = \"{}\")\n",
    "                                        AND FTR = 'D')\n",
    "                                        AND Season = {}\n",
    "                                        '''.format(self.team_name, self.team_name, self.season)\n",
    "        draw_dates_results = c.execute(draw_dates_query).fetchall()\n",
    "        self.draw_dates = [x[0] for x in lose_dates_results]\n",
    "        \n",
    "\n",
    "    def find_hist(self):\n",
    "            \n",
    "        self.find_Dates()\n",
    "            \n",
    "        hist_list = []\n",
    "                \n",
    "        for date in self.win_dates:\n",
    "                hist_list.append('Win')\n",
    "        for date in self.draw_dates:\n",
    "                hist_list.append('Draw')\n",
    "        for date in self.lose_dates:\n",
    "                hist_list.append('Loss')\n",
    "                \n",
    "        hist = plt.hist(hist_list)\n",
    "\n",
    "        return hist     \n",
    "            \n",
    "            \n",
    "    def find_Win_Rate_Rain(self, rainy_dates): # sets self win_rate_rain\n",
    "        \n",
    "        self.find_Dates()\n",
    "        \n",
    "        rain_wins = 0\n",
    "        rain_losses = 0\n",
    "        \n",
    "        for date in self.win_dates:\n",
    "            if date in rainy_dates:\n",
    "                rain_wins += 1\n",
    "        \n",
    "        for date in self.lose_dates:\n",
    "            if date in rainy_dates:\n",
    "                rain_losses +=1\n",
    "                \n",
    "        self.win_rate_rain = round(rain_wins / (rain_wins + rain_losses), 3)"
   ]
  },
  {
   "cell_type": "code",
   "execution_count": 68,
   "metadata": {},
   "outputs": [],
   "source": [
    "    # Insert data into mongoDB database    \n",
    "    def insertTeam(Team):       \n",
    "    \n",
    "        client = pymongo.MongoClient('mongodb://127.0.0.1:27017/')\n",
    "        mongo_db = client['Soccer']\n",
    "        collection = mongo_db['2011 season']\n",
    "        \n",
    "        viz = Team.find_hist()\n",
    "        \n",
    "        collection.insert_one({\n",
    "            'team' : Team.team_name,\n",
    "            'goals' : Team.total_goals,\n",
    "            'wins' : Team.total_wins,\n",
    "            'win_loss_hist' : viz,\n",
    "            'win_rate_rain' : Team.win_rate_rain\n",
    "        })\n",
    "        \n",
    "        del viz"
   ]
  },
  {
   "cell_type": "markdown",
   "metadata": {},
   "source": [
    "Set connection to the database"
   ]
  },
  {
   "cell_type": "code",
   "execution_count": 58,
   "metadata": {},
   "outputs": [],
   "source": [
    "connection = sqlite3.connect('database.sqlite')\n",
    "c = connection.cursor() # Cursor"
   ]
  },
  {
   "cell_type": "markdown",
   "metadata": {},
   "source": [
    "Get weather for all the dates on which games were played"
   ]
  },
  {
   "cell_type": "code",
   "execution_count": 46,
   "metadata": {
    "scrolled": true
   },
   "outputs": [
    {
     "data": {
      "text/plain": [
       "['2012-03-31', '2012-01-20', '2011-09-18']"
      ]
     },
     "execution_count": 46,
     "metadata": {},
     "output_type": "execute_result"
    }
   ],
   "source": [
    "Berlin = WeatherGetter(2011, 52.501408, 13.4023285)\n",
    "Berlin.find_Rainy_Dates()\n",
    "Berlin.rainy_dates[:3]"
   ]
  },
  {
   "cell_type": "markdown",
   "metadata": {},
   "source": [
    "Collect the names of every team in the 2011 season and store them in a list 'team_names'"
   ]
  },
  {
   "cell_type": "code",
   "execution_count": 69,
   "metadata": {
    "scrolled": false
   },
   "outputs": [
    {
     "name": "stdout",
     "output_type": "stream",
     "text": [
      "36\n"
     ]
    },
    {
     "data": {
      "text/plain": [
       "'Bayern Munich'"
      ]
     },
     "execution_count": 69,
     "metadata": {},
     "output_type": "execute_result"
    }
   ],
   "source": [
    "team_names_results = c.execute('''SELECT DISTINCT TeamName \n",
    "                                                    FROM Teams \n",
    "                                                    WHERE Season = 2011\n",
    "                                                    ''').fetchall()\n",
    "\n",
    "team_names = [x[0] for x in team_names_results]\n",
    "print(len(team_names))\n",
    "team_names[0] "
   ]
  },
  {
   "cell_type": "markdown",
   "metadata": {},
   "source": [
    "Create a Team object for each team name and store it in a list 'Teams'"
   ]
  },
  {
   "cell_type": "code",
   "execution_count": 70,
   "metadata": {},
   "outputs": [],
   "source": [
    "Teams = []\n",
    "for team_name in team_names:\n",
    "    Teams.append(Team(2011, team_name))"
   ]
  },
  {
   "cell_type": "markdown",
   "metadata": {},
   "source": [
    "Iterate through every team and run the functions to set their stats"
   ]
  },
  {
   "cell_type": "code",
   "execution_count": 71,
   "metadata": {
    "scrolled": true
   },
   "outputs": [],
   "source": [
    "for Team in Teams:\n",
    "    Team.find_Goals()\n",
    "    Team.find_Wins()\n",
    "    Team.find_Win_Rate_Rain(Berlin.rainy_dates)"
   ]
  },
  {
   "cell_type": "markdown",
   "metadata": {},
   "source": [
    "Add each team to the database using insertTeam function"
   ]
  },
  {
   "cell_type": "code",
   "execution_count": 72,
   "metadata": {
    "scrolled": true
   },
   "outputs": [
    {
     "ename": "InvalidDocument",
     "evalue": "cannot encode object: array([23.,  0.,  0.,  0.,  0.,  7.,  0.,  0.,  0.,  7.]), of type: <class 'numpy.ndarray'>",
     "output_type": "error",
     "traceback": [
      "\u001b[1;31m---------------------------------------------------------------------------\u001b[0m",
      "\u001b[1;31mInvalidDocument\u001b[0m                           Traceback (most recent call last)",
      "\u001b[1;32m<ipython-input-72-18cb446db44a>\u001b[0m in \u001b[0;36m<module>\u001b[1;34m\u001b[0m\n\u001b[0;32m      1\u001b[0m \u001b[1;32mfor\u001b[0m \u001b[0mTeam\u001b[0m \u001b[1;32min\u001b[0m \u001b[0mTeams\u001b[0m\u001b[1;33m:\u001b[0m\u001b[1;33m\u001b[0m\u001b[1;33m\u001b[0m\u001b[0m\n\u001b[1;32m----> 2\u001b[1;33m     \u001b[0minsertTeam\u001b[0m\u001b[1;33m(\u001b[0m\u001b[0mTeam\u001b[0m\u001b[1;33m)\u001b[0m\u001b[1;33m\u001b[0m\u001b[1;33m\u001b[0m\u001b[0m\n\u001b[0m",
      "\u001b[1;32m<ipython-input-68-c816f862964a>\u001b[0m in \u001b[0;36minsertTeam\u001b[1;34m(Team)\u001b[0m\n\u001b[0;32m     13\u001b[0m         \u001b[1;34m'wins'\u001b[0m \u001b[1;33m:\u001b[0m \u001b[0mTeam\u001b[0m\u001b[1;33m.\u001b[0m\u001b[0mtotal_wins\u001b[0m\u001b[1;33m,\u001b[0m\u001b[1;33m\u001b[0m\u001b[1;33m\u001b[0m\u001b[0m\n\u001b[0;32m     14\u001b[0m         \u001b[1;34m'win_loss_hist'\u001b[0m \u001b[1;33m:\u001b[0m \u001b[0mviz\u001b[0m\u001b[1;33m,\u001b[0m\u001b[1;33m\u001b[0m\u001b[1;33m\u001b[0m\u001b[0m\n\u001b[1;32m---> 15\u001b[1;33m         \u001b[1;34m'win_rate_rain'\u001b[0m \u001b[1;33m:\u001b[0m \u001b[0mTeam\u001b[0m\u001b[1;33m.\u001b[0m\u001b[0mwin_rate_rain\u001b[0m\u001b[1;33m\u001b[0m\u001b[1;33m\u001b[0m\u001b[0m\n\u001b[0m\u001b[0;32m     16\u001b[0m     })\n\u001b[0;32m     17\u001b[0m \u001b[1;33m\u001b[0m\u001b[0m\n",
      "\u001b[1;32m~\\Anaconda3\\lib\\site-packages\\pymongo\\collection.py\u001b[0m in \u001b[0;36minsert_one\u001b[1;34m(self, document, bypass_document_validation, session)\u001b[0m\n\u001b[0;32m    696\u001b[0m                          \u001b[0mwrite_concern\u001b[0m\u001b[1;33m=\u001b[0m\u001b[0mwrite_concern\u001b[0m\u001b[1;33m,\u001b[0m\u001b[1;33m\u001b[0m\u001b[1;33m\u001b[0m\u001b[0m\n\u001b[0;32m    697\u001b[0m                          \u001b[0mbypass_doc_val\u001b[0m\u001b[1;33m=\u001b[0m\u001b[0mbypass_document_validation\u001b[0m\u001b[1;33m,\u001b[0m\u001b[1;33m\u001b[0m\u001b[1;33m\u001b[0m\u001b[0m\n\u001b[1;32m--> 698\u001b[1;33m                          session=session),\n\u001b[0m\u001b[0;32m    699\u001b[0m             write_concern.acknowledged)\n\u001b[0;32m    700\u001b[0m \u001b[1;33m\u001b[0m\u001b[0m\n",
      "\u001b[1;32m~\\Anaconda3\\lib\\site-packages\\pymongo\\collection.py\u001b[0m in \u001b[0;36m_insert\u001b[1;34m(self, docs, ordered, check_keys, manipulate, write_concern, op_id, bypass_doc_val, session)\u001b[0m\n\u001b[0;32m    610\u001b[0m             return self._insert_one(\n\u001b[0;32m    611\u001b[0m                 \u001b[0mdocs\u001b[0m\u001b[1;33m,\u001b[0m \u001b[0mordered\u001b[0m\u001b[1;33m,\u001b[0m \u001b[0mcheck_keys\u001b[0m\u001b[1;33m,\u001b[0m \u001b[0mmanipulate\u001b[0m\u001b[1;33m,\u001b[0m \u001b[0mwrite_concern\u001b[0m\u001b[1;33m,\u001b[0m \u001b[0mop_id\u001b[0m\u001b[1;33m,\u001b[0m\u001b[1;33m\u001b[0m\u001b[1;33m\u001b[0m\u001b[0m\n\u001b[1;32m--> 612\u001b[1;33m                 bypass_doc_val, session)\n\u001b[0m\u001b[0;32m    613\u001b[0m \u001b[1;33m\u001b[0m\u001b[0m\n\u001b[0;32m    614\u001b[0m         \u001b[0mids\u001b[0m \u001b[1;33m=\u001b[0m \u001b[1;33m[\u001b[0m\u001b[1;33m]\u001b[0m\u001b[1;33m\u001b[0m\u001b[1;33m\u001b[0m\u001b[0m\n",
      "\u001b[1;32m~\\Anaconda3\\lib\\site-packages\\pymongo\\collection.py\u001b[0m in \u001b[0;36m_insert_one\u001b[1;34m(self, doc, ordered, check_keys, manipulate, write_concern, op_id, bypass_doc_val, session)\u001b[0m\n\u001b[0;32m    598\u001b[0m \u001b[1;33m\u001b[0m\u001b[0m\n\u001b[0;32m    599\u001b[0m         self.__database.client._retryable_write(\n\u001b[1;32m--> 600\u001b[1;33m             acknowledged, _insert_command, session)\n\u001b[0m\u001b[0;32m    601\u001b[0m \u001b[1;33m\u001b[0m\u001b[0m\n\u001b[0;32m    602\u001b[0m         \u001b[1;32mif\u001b[0m \u001b[1;32mnot\u001b[0m \u001b[0misinstance\u001b[0m\u001b[1;33m(\u001b[0m\u001b[0mdoc\u001b[0m\u001b[1;33m,\u001b[0m \u001b[0mRawBSONDocument\u001b[0m\u001b[1;33m)\u001b[0m\u001b[1;33m:\u001b[0m\u001b[1;33m\u001b[0m\u001b[1;33m\u001b[0m\u001b[0m\n",
      "\u001b[1;32m~\\Anaconda3\\lib\\site-packages\\pymongo\\mongo_client.py\u001b[0m in \u001b[0;36m_retryable_write\u001b[1;34m(self, retryable, func, session)\u001b[0m\n\u001b[0;32m   1490\u001b[0m         \u001b[1;34m\"\"\"Internal retryable write helper.\"\"\"\u001b[0m\u001b[1;33m\u001b[0m\u001b[1;33m\u001b[0m\u001b[0m\n\u001b[0;32m   1491\u001b[0m         \u001b[1;32mwith\u001b[0m \u001b[0mself\u001b[0m\u001b[1;33m.\u001b[0m\u001b[0m_tmp_session\u001b[0m\u001b[1;33m(\u001b[0m\u001b[0msession\u001b[0m\u001b[1;33m)\u001b[0m \u001b[1;32mas\u001b[0m \u001b[0ms\u001b[0m\u001b[1;33m:\u001b[0m\u001b[1;33m\u001b[0m\u001b[1;33m\u001b[0m\u001b[0m\n\u001b[1;32m-> 1492\u001b[1;33m             \u001b[1;32mreturn\u001b[0m \u001b[0mself\u001b[0m\u001b[1;33m.\u001b[0m\u001b[0m_retry_with_session\u001b[0m\u001b[1;33m(\u001b[0m\u001b[0mretryable\u001b[0m\u001b[1;33m,\u001b[0m \u001b[0mfunc\u001b[0m\u001b[1;33m,\u001b[0m \u001b[0ms\u001b[0m\u001b[1;33m,\u001b[0m \u001b[1;32mNone\u001b[0m\u001b[1;33m)\u001b[0m\u001b[1;33m\u001b[0m\u001b[1;33m\u001b[0m\u001b[0m\n\u001b[0m\u001b[0;32m   1493\u001b[0m \u001b[1;33m\u001b[0m\u001b[0m\n\u001b[0;32m   1494\u001b[0m     \u001b[1;32mdef\u001b[0m \u001b[0m_reset_server\u001b[0m\u001b[1;33m(\u001b[0m\u001b[0mself\u001b[0m\u001b[1;33m,\u001b[0m \u001b[0maddress\u001b[0m\u001b[1;33m)\u001b[0m\u001b[1;33m:\u001b[0m\u001b[1;33m\u001b[0m\u001b[1;33m\u001b[0m\u001b[0m\n",
      "\u001b[1;32m~\\Anaconda3\\lib\\site-packages\\pymongo\\mongo_client.py\u001b[0m in \u001b[0;36m_retry_with_session\u001b[1;34m(self, retryable, func, session, bulk)\u001b[0m\n\u001b[0;32m   1383\u001b[0m                             \u001b[1;32mraise\u001b[0m \u001b[0mlast_error\u001b[0m\u001b[1;33m\u001b[0m\u001b[1;33m\u001b[0m\u001b[0m\n\u001b[0;32m   1384\u001b[0m                         \u001b[0mretryable\u001b[0m \u001b[1;33m=\u001b[0m \u001b[1;32mFalse\u001b[0m\u001b[1;33m\u001b[0m\u001b[1;33m\u001b[0m\u001b[0m\n\u001b[1;32m-> 1385\u001b[1;33m                     \u001b[1;32mreturn\u001b[0m \u001b[0mfunc\u001b[0m\u001b[1;33m(\u001b[0m\u001b[0msession\u001b[0m\u001b[1;33m,\u001b[0m \u001b[0msock_info\u001b[0m\u001b[1;33m,\u001b[0m \u001b[0mretryable\u001b[0m\u001b[1;33m)\u001b[0m\u001b[1;33m\u001b[0m\u001b[1;33m\u001b[0m\u001b[0m\n\u001b[0m\u001b[0;32m   1386\u001b[0m             \u001b[1;32mexcept\u001b[0m \u001b[0mServerSelectionTimeoutError\u001b[0m\u001b[1;33m:\u001b[0m\u001b[1;33m\u001b[0m\u001b[1;33m\u001b[0m\u001b[0m\n\u001b[0;32m   1387\u001b[0m                 \u001b[1;32mif\u001b[0m \u001b[0mis_retrying\u001b[0m\u001b[1;33m(\u001b[0m\u001b[1;33m)\u001b[0m\u001b[1;33m:\u001b[0m\u001b[1;33m\u001b[0m\u001b[1;33m\u001b[0m\u001b[0m\n",
      "\u001b[1;32m~\\Anaconda3\\lib\\site-packages\\pymongo\\collection.py\u001b[0m in \u001b[0;36m_insert_command\u001b[1;34m(session, sock_info, retryable_write)\u001b[0m\n\u001b[0;32m    593\u001b[0m                 \u001b[0msession\u001b[0m\u001b[1;33m=\u001b[0m\u001b[0msession\u001b[0m\u001b[1;33m,\u001b[0m\u001b[1;33m\u001b[0m\u001b[1;33m\u001b[0m\u001b[0m\n\u001b[0;32m    594\u001b[0m                 \u001b[0mclient\u001b[0m\u001b[1;33m=\u001b[0m\u001b[0mself\u001b[0m\u001b[1;33m.\u001b[0m\u001b[0m__database\u001b[0m\u001b[1;33m.\u001b[0m\u001b[0mclient\u001b[0m\u001b[1;33m,\u001b[0m\u001b[1;33m\u001b[0m\u001b[1;33m\u001b[0m\u001b[0m\n\u001b[1;32m--> 595\u001b[1;33m                 retryable_write=retryable_write)\n\u001b[0m\u001b[0;32m    596\u001b[0m \u001b[1;33m\u001b[0m\u001b[0m\n\u001b[0;32m    597\u001b[0m             \u001b[0m_check_write_command_response\u001b[0m\u001b[1;33m(\u001b[0m\u001b[0mresult\u001b[0m\u001b[1;33m)\u001b[0m\u001b[1;33m\u001b[0m\u001b[1;33m\u001b[0m\u001b[0m\n",
      "\u001b[1;32m~\\Anaconda3\\lib\\site-packages\\pymongo\\pool.py\u001b[0m in \u001b[0;36mcommand\u001b[1;34m(self, dbname, spec, slave_ok, read_preference, codec_options, check, allowable_errors, check_keys, read_concern, write_concern, parse_write_concern_error, collation, session, client, retryable_write, publish_events, user_fields)\u001b[0m\n\u001b[0;32m    616\u001b[0m         \u001b[1;31m# Catch socket.error, KeyboardInterrupt, etc. and close ourselves.\u001b[0m\u001b[1;33m\u001b[0m\u001b[1;33m\u001b[0m\u001b[1;33m\u001b[0m\u001b[0m\n\u001b[0;32m    617\u001b[0m         \u001b[1;32mexcept\u001b[0m \u001b[0mBaseException\u001b[0m \u001b[1;32mas\u001b[0m \u001b[0merror\u001b[0m\u001b[1;33m:\u001b[0m\u001b[1;33m\u001b[0m\u001b[1;33m\u001b[0m\u001b[0m\n\u001b[1;32m--> 618\u001b[1;33m             \u001b[0mself\u001b[0m\u001b[1;33m.\u001b[0m\u001b[0m_raise_connection_failure\u001b[0m\u001b[1;33m(\u001b[0m\u001b[0merror\u001b[0m\u001b[1;33m)\u001b[0m\u001b[1;33m\u001b[0m\u001b[1;33m\u001b[0m\u001b[0m\n\u001b[0m\u001b[0;32m    619\u001b[0m \u001b[1;33m\u001b[0m\u001b[0m\n\u001b[0;32m    620\u001b[0m     \u001b[1;32mdef\u001b[0m \u001b[0msend_message\u001b[0m\u001b[1;33m(\u001b[0m\u001b[0mself\u001b[0m\u001b[1;33m,\u001b[0m \u001b[0mmessage\u001b[0m\u001b[1;33m,\u001b[0m \u001b[0mmax_doc_size\u001b[0m\u001b[1;33m)\u001b[0m\u001b[1;33m:\u001b[0m\u001b[1;33m\u001b[0m\u001b[1;33m\u001b[0m\u001b[0m\n",
      "\u001b[1;32m~\\Anaconda3\\lib\\site-packages\\pymongo\\pool.py\u001b[0m in \u001b[0;36mcommand\u001b[1;34m(self, dbname, spec, slave_ok, read_preference, codec_options, check, allowable_errors, check_keys, read_concern, write_concern, parse_write_concern_error, collation, session, client, retryable_write, publish_events, user_fields)\u001b[0m\n\u001b[0;32m    611\u001b[0m                            \u001b[0muse_op_msg\u001b[0m\u001b[1;33m=\u001b[0m\u001b[0mself\u001b[0m\u001b[1;33m.\u001b[0m\u001b[0mop_msg_enabled\u001b[0m\u001b[1;33m,\u001b[0m\u001b[1;33m\u001b[0m\u001b[1;33m\u001b[0m\u001b[0m\n\u001b[0;32m    612\u001b[0m                            \u001b[0munacknowledged\u001b[0m\u001b[1;33m=\u001b[0m\u001b[0munacknowledged\u001b[0m\u001b[1;33m,\u001b[0m\u001b[1;33m\u001b[0m\u001b[1;33m\u001b[0m\u001b[0m\n\u001b[1;32m--> 613\u001b[1;33m                            user_fields=user_fields)\n\u001b[0m\u001b[0;32m    614\u001b[0m         \u001b[1;32mexcept\u001b[0m \u001b[0mOperationFailure\u001b[0m\u001b[1;33m:\u001b[0m\u001b[1;33m\u001b[0m\u001b[1;33m\u001b[0m\u001b[0m\n\u001b[0;32m    615\u001b[0m             \u001b[1;32mraise\u001b[0m\u001b[1;33m\u001b[0m\u001b[1;33m\u001b[0m\u001b[0m\n",
      "\u001b[1;32m~\\Anaconda3\\lib\\site-packages\\pymongo\\network.py\u001b[0m in \u001b[0;36mcommand\u001b[1;34m(sock, dbname, spec, slave_ok, is_mongos, read_preference, codec_options, session, client, check, allowable_errors, address, check_keys, listeners, max_bson_size, read_concern, parse_write_concern_error, collation, compression_ctx, use_op_msg, unacknowledged, user_fields)\u001b[0m\n\u001b[0;32m    127\u001b[0m         request_id, msg, size, max_doc_size = message._op_msg(\n\u001b[0;32m    128\u001b[0m             \u001b[0mflags\u001b[0m\u001b[1;33m,\u001b[0m \u001b[0mspec\u001b[0m\u001b[1;33m,\u001b[0m \u001b[0mdbname\u001b[0m\u001b[1;33m,\u001b[0m \u001b[0mread_preference\u001b[0m\u001b[1;33m,\u001b[0m \u001b[0mslave_ok\u001b[0m\u001b[1;33m,\u001b[0m \u001b[0mcheck_keys\u001b[0m\u001b[1;33m,\u001b[0m\u001b[1;33m\u001b[0m\u001b[1;33m\u001b[0m\u001b[0m\n\u001b[1;32m--> 129\u001b[1;33m             codec_options, ctx=compression_ctx)\n\u001b[0m\u001b[0;32m    130\u001b[0m         \u001b[1;31m# If this is an unacknowledged write then make sure the encoded doc(s)\u001b[0m\u001b[1;33m\u001b[0m\u001b[1;33m\u001b[0m\u001b[1;33m\u001b[0m\u001b[0m\n\u001b[0;32m    131\u001b[0m         \u001b[1;31m# are small enough, otherwise rely on the server to return an error.\u001b[0m\u001b[1;33m\u001b[0m\u001b[1;33m\u001b[0m\u001b[1;33m\u001b[0m\u001b[0m\n",
      "\u001b[1;32m~\\Anaconda3\\lib\\site-packages\\pymongo\\message.py\u001b[0m in \u001b[0;36m_op_msg\u001b[1;34m(flags, command, dbname, read_preference, slave_ok, check_keys, opts, ctx)\u001b[0m\n\u001b[0;32m    702\u001b[0m                 flags, command, identifier, docs, check_keys, opts, ctx)\n\u001b[0;32m    703\u001b[0m         return _op_msg_uncompressed(\n\u001b[1;32m--> 704\u001b[1;33m             flags, command, identifier, docs, check_keys, opts)\n\u001b[0m\u001b[0;32m    705\u001b[0m     \u001b[1;32mfinally\u001b[0m\u001b[1;33m:\u001b[0m\u001b[1;33m\u001b[0m\u001b[1;33m\u001b[0m\u001b[0m\n\u001b[0;32m    706\u001b[0m         \u001b[1;31m# Add the field back to the command.\u001b[0m\u001b[1;33m\u001b[0m\u001b[1;33m\u001b[0m\u001b[1;33m\u001b[0m\u001b[0m\n",
      "\u001b[1;31mInvalidDocument\u001b[0m: cannot encode object: array([23.,  0.,  0.,  0.,  0.,  7.,  0.,  0.,  0.,  7.]), of type: <class 'numpy.ndarray'>"
     ]
    },
    {
     "data": {
      "image/png": "[encoded data removed]",
      "text/plain": [
       "<Figure size 432x288 with 1 Axes>"
      ]
     },
     "metadata": {
      "needs_background": "light"
     },
     "output_type": "display_data"
    }
   ],
   "source": [
    "for Team in Teams:\n",
    "    insertTeam(Team)"
   ]
  },
  {
   "cell_type": "markdown",
   "metadata": {},
   "source": [
    "All Done!"
   ]
  },
  {
   "cell_type": "markdown",
   "metadata": {},
   "source": [
    "Now to check the database"
   ]
  },
  {
   "cell_type": "code",
   "execution_count": 36,
   "metadata": {
    "scrolled": true
   },
   "outputs": [
    {
     "name": "stdout",
     "output_type": "stream",
     "text": [
      "{'_id': ObjectId('5e1394e5ed339a1a1ce6fcb4'), 'team': 'Bayern Munich', 'goals': 77, 'wins': 23, 'win_loss_hist': None, 'win_rate_rain': 0.7}\n",
      "{'_id': ObjectId('5e1394e5ed339a1a1ce6fcb6'), 'team': 'Dortmund', 'goals': 80, 'wins': 25, 'win_loss_hist': None, 'win_rate_rain': 0.857}\n",
      "{'_id': ObjectId('5e1394e6ed339a1a1ce6fcb8'), 'team': 'Leverkusen', 'goals': 52, 'wins': 15, 'win_loss_hist': None, 'win_rate_rain': 0.6}\n",
      "{'_id': ObjectId('5e1394e6ed339a1a1ce6fcba'), 'team': 'Schalke 04', 'goals': 74, 'wins': 20, 'win_loss_hist': None, 'win_rate_rain': 0.556}\n",
      "{'_id': ObjectId('5e1394e6ed339a1a1ce6fcbc'), 'team': 'Werder Bremen', 'goals': 49, 'wins': 11, 'win_loss_hist': None, 'win_rate_rain': 0.444}\n",
      "{'_id': ObjectId('5e1394e6ed339a1a1ce6fcbe'), 'team': 'Wolfsburg', 'goals': 47, 'wins': 13, 'win_loss_hist': None, 'win_rate_rain': 0.364}\n",
      "{'_id': ObjectId('5e1394e6ed339a1a1ce6fcc0'), 'team': 'Hamburg', 'goals': 35, 'wins': 8, 'win_loss_hist': None, 'win_rate_rain': 0.333}\n",
      "{'_id': ObjectId('5e1394e6ed339a1a1ce6fcc2'), 'team': 'Stuttgart', 'goals': 63, 'wins': 15, 'win_loss_hist': None, 'win_rate_rain': 0.4}\n",
      "{'_id': ObjectId('5e1394e6ed339a1a1ce6fcc4'), 'team': 'Hoffenheim', 'goals': 41, 'wins': 10, 'win_loss_hist': None, 'win_rate_rain': 0.2}\n",
      "{'_id': ObjectId('5e1394e6ed339a1a1ce6fcc6'), 'team': 'FC Koln', 'goals': 39, 'wins': 8, 'win_loss_hist': None, 'win_rate_rain': 0.364}\n",
      "{'_id': ObjectId('5e1394e6ed339a1a1ce6fcc8'), 'team': 'Hannover', 'goals': 41, 'wins': 12, 'win_loss_hist': None, 'win_rate_rain': 0.833}\n",
      "{'_id': ObjectId('5e1394e6ed339a1a1ce6fcca'), 'team': \"M'gladbach\", 'goals': 49, 'wins': 17, 'win_loss_hist': None, 'win_rate_rain': 0.875}\n",
      "{'_id': ObjectId('5e1394e6ed339a1a1ce6fccc'), 'team': 'Freiburg', 'goals': 45, 'wins': 10, 'win_loss_hist': None, 'win_rate_rain': 0.429}\n",
      "{'_id': ObjectId('5e1394e6ed339a1a1ce6fcce'), 'team': 'Mainz', 'goals': 47, 'wins': 9, 'win_loss_hist': None, 'win_rate_rain': 0.4}\n",
      "{'_id': ObjectId('5e1394e6ed339a1a1ce6fcd0'), 'team': 'Hertha', 'goals': 38, 'wins': 7, 'win_loss_hist': None, 'win_rate_rain': 0.333}\n",
      "{'_id': ObjectId('5e1394e6ed339a1a1ce6fcd2'), 'team': 'Kaiserslautern', 'goals': 24, 'wins': 4, 'win_loss_hist': None, 'win_rate_rain': 0.0}\n",
      "{'_id': ObjectId('5e1394e6ed339a1a1ce6fcd4'), 'team': 'Nurnberg', 'goals': 38, 'wins': 12, 'win_loss_hist': None, 'win_rate_rain': 0.556}\n",
      "{'_id': ObjectId('5e1394e7ed339a1a1ce6fcd6'), 'team': 'Augsburg', 'goals': 36, 'wins': 8, 'win_loss_hist': None, 'win_rate_rain': 0.5}\n",
      "{'_id': ObjectId('5e1394e7ed339a1a1ce6fcd8'), 'team': 'Ein Frankfurt', 'goals': 76, 'wins': 20, 'win_loss_hist': None, 'win_rate_rain': 0.6}\n",
      "{'_id': ObjectId('5e1394e7ed339a1a1ce6fcda'), 'team': 'St Pauli', 'goals': 59, 'wins': 18, 'win_loss_hist': None, 'win_rate_rain': 1.0}\n",
      "{'_id': ObjectId('5e1394e7ed339a1a1ce6fcdc'), 'team': 'Cottbus', 'goals': 30, 'wins': 8, 'win_loss_hist': None, 'win_rate_rain': 0.429}\n",
      "{'_id': ObjectId('5e1394e7ed339a1a1ce6fcde'), 'team': 'Bochum', 'goals': 41, 'wins': 10, 'win_loss_hist': None, 'win_rate_rain': 0.333}\n",
      "{'_id': ObjectId('5e1394e7ed339a1a1ce6fce0'), 'team': 'Fortuna Dusseldorf', 'goals': 64, 'wins': 16, 'win_loss_hist': None, 'win_rate_rain': 0.667}\n",
      "{'_id': ObjectId('5e1394e7ed339a1a1ce6fce2'), 'team': 'Greuther Furth', 'goals': 73, 'wins': 20, 'win_loss_hist': None, 'win_rate_rain': 1.0}\n",
      "{'_id': ObjectId('5e1394e7ed339a1a1ce6fce4'), 'team': 'Munich 1860', 'goals': 62, 'wins': 17, 'win_loss_hist': None, 'win_rate_rain': 0.647}\n",
      "{'_id': ObjectId('5e1394e7ed339a1a1ce6fce6'), 'team': 'Aachen', 'goals': 30, 'wins': 6, 'win_loss_hist': None, 'win_rate_rain': 0.75}\n",
      "{'_id': ObjectId('5e1394e7ed339a1a1ce6fce8'), 'team': 'Ingolstadt', 'goals': 43, 'wins': 8, 'win_loss_hist': None, 'win_rate_rain': 0.222}\n",
      "{'_id': ObjectId('5e1394e7ed339a1a1ce6fcea'), 'team': 'Duisburg', 'goals': 42, 'wins': 10, 'win_loss_hist': None, 'win_rate_rain': 0.364}\n",
      "{'_id': ObjectId('5e1394e7ed339a1a1ce6fcec'), 'team': 'Karlsruhe', 'goals': 34, 'wins': 9, 'win_loss_hist': None, 'win_rate_rain': 0.286}\n",
      "{'_id': ObjectId('5e1394e7ed339a1a1ce6fcee'), 'team': 'Dresden', 'goals': 50, 'wins': 12, 'win_loss_hist': None, 'win_rate_rain': 0.6}\n",
      "{'_id': ObjectId('5e1394e7ed339a1a1ce6fcf0'), 'team': 'Frankfurt FSV', 'goals': 43, 'wins': 7, 'win_loss_hist': None, 'win_rate_rain': 0.125}\n",
      "{'_id': ObjectId('5e1394e7ed339a1a1ce6fcf2'), 'team': 'Erzgebirge Aue', 'goals': 31, 'wins': 8, 'win_loss_hist': None, 'win_rate_rain': 0.2}\n",
      "{'_id': ObjectId('5e1394e8ed339a1a1ce6fcf4'), 'team': 'Hansa Rostock', 'goals': 34, 'wins': 5, 'win_loss_hist': None, 'win_rate_rain': 0.143}\n",
      "{'_id': ObjectId('5e1394e8ed339a1a1ce6fcf6'), 'team': 'Union Berlin', 'goals': 55, 'wins': 14, 'win_loss_hist': None, 'win_rate_rain': 0.5}\n",
      "{'_id': ObjectId('5e1394e8ed339a1a1ce6fcf8'), 'team': 'Paderborn', 'goals': 51, 'wins': 17, 'win_loss_hist': None, 'win_rate_rain': 0.75}\n",
      "{'_id': ObjectId('5e1394e8ed339a1a1ce6fcfa'), 'team': 'Braunschweig', 'goals': 37, 'wins': 10, 'win_loss_hist': None, 'win_rate_rain': 0.571}\n"
     ]
    }
   ],
   "source": [
    "myclient = pymongo.MongoClient('mongodb://127.0.0.1:27017/')\n",
    "mydb = myclient['Soccer']\n",
    "mycollection = mydb['2011 season']\n",
    "query = mycollection.find({})\n",
    "#print(len([x for x in query]))\n",
    "for x in query:\n",
    "    print(x)\n"
   ]
  },
  {
   "cell_type": "code",
   "execution_count": 42,
   "metadata": {},
   "outputs": [
    {
     "name": "stdout",
     "output_type": "stream",
     "text": [
      "{'_id': ObjectId('5e1394e5ed339a1a1ce6fcb4'), 'team': 'Bayern Munich', 'goals': 77, 'wins': 23, 'win_loss_hist': None, 'win_rate_rain': 0.7}\n"
     ]
    }
   ],
   "source": [
    "query2 = mycollection.find({'team': 'Bayern Munich'})\n",
    "for x in query2:\n",
    "    print(x)"
   ]
  },
  {
   "cell_type": "markdown",
   "metadata": {},
   "source": [
    "# Summary\n",
    "\n",
    "In this lab, we dug deep and used everything we've learned so far about python programming, databases, HTTP requests and API calls to ETL data from a SQL database into a MongoDB instance!"
   ]
  }
 ],
 "metadata": {
  "kernelspec": {
   "display_name": "Python 3",
   "language": "python",
   "name": "python3"
  },
  "language_info": {
   "codemirror_mode": {
    "name": "ipython",
    "version": 3
   },
   "file_extension": ".py",
   "mimetype": "text/x-python",
   "name": "python",
   "nbconvert_exporter": "python",
   "pygments_lexer": "ipython3",
   "version": "3.7.3"
  }
 },
 "nbformat": 4,
 "nbformat_minor": 2
}
